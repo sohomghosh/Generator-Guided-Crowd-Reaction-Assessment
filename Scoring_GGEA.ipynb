{
  "nbformat": 4,
  "nbformat_minor": 0,
  "metadata": {
    "colab": {
      "provenance": [],
      "gpuType": "T4"
    },
    "kernelspec": {
      "name": "python3",
      "display_name": "Python 3"
    },
    "language_info": {
      "name": "python"
    },
    "accelerator": "GPU"
  },
  "cells": [
    {
      "cell_type": "code",
      "source": [
        "#Install the foloowing packages if not done already\n",
        "\n",
        "#!pip install -r requirements.txt"
      ],
      "metadata": {
        "colab": {
          "base_uri": "https://localhost:8080/"
        },
        "id": "lqcdThB3LWkJ",
        "outputId": "3e121f98-b160-4b97-eecd-c64c6e332ea2"
      },
      "execution_count": null,
      "outputs": [
        {
          "output_type": "stream",
          "name": "stdout",
          "text": [
            "\u001b[2K     \u001b[90m━━━━━━━━━━━━━━━━━━━━━━━━━━━━━━━━━━━━━━━━\u001b[0m \u001b[32m7.1/7.1 MB\u001b[0m \u001b[31m115.4 MB/s\u001b[0m eta \u001b[36m0:00:00\u001b[0m\n",
            "\u001b[2K     \u001b[90m━━━━━━━━━━━━━━━━━━━━━━━━━━━━━━━━━━━━━━━━\u001b[0m \u001b[32m86.0/86.0 kB\u001b[0m \u001b[31m11.0 MB/s\u001b[0m eta \u001b[36m0:00:00\u001b[0m\n",
            "\u001b[?25h  Preparing metadata (setup.py) ... \u001b[?25l\u001b[?25hdone\n",
            "\u001b[2K     \u001b[90m━━━━━━━━━━━━━━━━━━━━━━━━━━━━━━━━━━━━━━\u001b[0m \u001b[32m353.7/353.7 kB\u001b[0m \u001b[31m38.6 MB/s\u001b[0m eta \u001b[36m0:00:00\u001b[0m\n",
            "\u001b[?25h  Preparing metadata (setup.py) ... \u001b[?25l\u001b[?25hdone\n",
            "\u001b[2K     \u001b[90m━━━━━━━━━━━━━━━━━━━━━━━━━━━━━━━━━━━━━━\u001b[0m \u001b[32m236.8/236.8 kB\u001b[0m \u001b[31m26.2 MB/s\u001b[0m eta \u001b[36m0:00:00\u001b[0m\n",
            "\u001b[2K     \u001b[90m━━━━━━━━━━━━━━━━━━━━━━━━━━━━━━━━━━━━━━━━\u001b[0m \u001b[32m7.8/7.8 MB\u001b[0m \u001b[31m120.3 MB/s\u001b[0m eta \u001b[36m0:00:00\u001b[0m\n",
            "\u001b[2K     \u001b[90m━━━━━━━━━━━━━━━━━━━━━━━━━━━━━━━━━━━━━━━━\u001b[0m \u001b[32m1.3/1.3 MB\u001b[0m \u001b[31m87.3 MB/s\u001b[0m eta \u001b[36m0:00:00\u001b[0m\n",
            "\u001b[?25h  Building wheel for sentence_transformers (setup.py) ... \u001b[?25l\u001b[?25hdone\n",
            "  Building wheel for emoji (setup.py) ... \u001b[?25l\u001b[?25hdone\n"
          ]
        }
      ]
    },
    {
      "cell_type": "code",
      "source": [
        "# Download model artefacts. Gdown comes pre-installed with Colab. You may need to install gdown manually if you don't have it.\n",
        "!gdown -q --folder 1A2nuQ1diz7AcoiKpyct7EKGaHtyrX7GD"
      ],
      "metadata": {
        "id": "S_3k4nNYEDH5"
      },
      "execution_count": null,
      "outputs": []
    },
    {
      "cell_type": "code",
      "source": [
        "import pandas as pd\n",
        "from torch.utils.data import DataLoader\n",
        "import numpy as np\n",
        "import torch\n",
        "from sentence_transformers import LoggingHandler, util\n",
        "from sentence_transformers.cross_encoder import CrossEncoder\n",
        "from sentence_transformers.cross_encoder.evaluation import CESoftmaxAccuracyEvaluator\n",
        "from sentence_transformers.readers import InputExample\n",
        "from transformers import AutoTokenizer, AutoModelForSeq2SeqLM\n",
        "import warnings\n",
        "warnings.filterwarnings(\"ignore\")\n",
        "\n",
        "import logging\n",
        "logging.disable(logging.WARNING)"
      ],
      "metadata": {
        "id": "FJ3T4qNcRxpB"
      },
      "execution_count": 36,
      "outputs": []
    },
    {
      "cell_type": "code",
      "source": [
        "#The models artefacts are present in Google Drive so this needs to be loaded\n",
        "\n",
        "model_save_path = 'crossencoder_whitehouse_flangroberta_snli_sbert_with_claude'\n",
        "\n",
        "num_labels = 2\n",
        "model_ggea = CrossEncoder(model_save_path, num_labels=num_labels)"
      ],
      "metadata": {
        "id": "KVNwQalTKY1S"
      },
      "execution_count": 55,
      "outputs": []
    },
    {
      "cell_type": "code",
      "execution_count": 26,
      "metadata": {
        "id": "uOmMNFZlKgPk"
      },
      "outputs": [],
      "source": [
        "# Reference : https://huggingface.co/humarin/chatgpt_paraphraser_on_T5_base\n",
        "\n",
        "device = torch.device(\"cuda\" if torch.cuda.is_available() else \"cpu\")\n",
        "\n",
        "tokenizer = AutoTokenizer.from_pretrained(\"humarin/chatgpt_paraphraser_on_T5_base\")\n",
        "\n",
        "model = AutoModelForSeq2SeqLM.from_pretrained(\"humarin/chatgpt_paraphraser_on_T5_base\")#.to(device)\n",
        "\n",
        "def paraphrase(\n",
        "    question,\n",
        "    num_beams=5,\n",
        "    num_beam_groups=5,\n",
        "    num_return_sequences=5,\n",
        "    repetition_penalty=10.0,\n",
        "    diversity_penalty=3.0,\n",
        "    no_repeat_ngram_size=2,\n",
        "    temperature=0.7,\n",
        "    max_length=128\n",
        "):\n",
        "    input_ids = tokenizer(\n",
        "        f'paraphrase: {question}',\n",
        "        return_tensors=\"pt\", padding=\"longest\",\n",
        "        max_length=max_length,\n",
        "        truncation=True,\n",
        "    ).input_ids\n",
        "    \n",
        "    outputs = model.generate(\n",
        "        input_ids, temperature=temperature, repetition_penalty=repetition_penalty,\n",
        "        num_return_sequences=num_return_sequences, no_repeat_ngram_size=no_repeat_ngram_size,\n",
        "        num_beams=num_beams, num_beam_groups=num_beam_groups,\n",
        "        max_length=max_length, diversity_penalty=diversity_penalty\n",
        "    )\n",
        "\n",
        "    res = tokenizer.batch_decode(outputs, skip_special_tokens=True)\n",
        "\n",
        "    return res"
      ]
    },
    {
      "cell_type": "code",
      "source": [
        "#@title Enter Text which is to be paraphrased\n",
        "text = \"This year, our economy is projected to grow at the fastest pace in nearly 40 years. Right now, we have the opportunity to make once-in-a-generation investments in the foundations of middle class prosperity. Read more about the American Jobs Plan:\" #@param {type:\"string\"}\n",
        "#text = 'The American Jobs Plan is a once-in-a-generation investment in our infrastructure and future. Watch as President Biden sits down to share his thoughts about the plan:'"
      ],
      "metadata": {
        "id": "CEYfoQtRLD6X"
      },
      "execution_count": 100,
      "outputs": []
    },
    {
      "cell_type": "markdown",
      "source": [
        "## Paraphraser"
      ],
      "metadata": {
        "id": "g_RvAanyJpJq"
      }
    },
    {
      "cell_type": "code",
      "source": [
        "li_paraphrases = paraphrase(text)\n",
        "li_paraphrases.append(text) # The original text can be the better than the paraphrases in generating retweets. Thus, we are adding the original text to the list of paraphrases.\n",
        "\n",
        "responses = []\n",
        "for i in li_paraphrases:\n",
        "  print(i)"
      ],
      "metadata": {
        "id": "jGoST6QtLany",
        "colab": {
          "base_uri": "https://localhost:8080/"
        },
        "outputId": "afe2c8fe-8caa-482c-fc78-dbf445764818"
      },
      "execution_count": 90,
      "outputs": [
        {
          "output_type": "stream",
          "name": "stdout",
          "text": [
            "We are expecting the fastest growth in our economy for almost four decades this year. At present, we have the chance to invest in bolstering middle-class prosperity. Learn more about the American Jobs Plan:\n",
            "The economy is expected to expand at a rate faster than it has been for almost 40 years this year. We have the opportunity to invest in the middle class's success once again. Learn more about the American Jobs Plan:\n",
            "We are expecting the fastest growth in our economy for almost four decades this year. At present, we have the chance to invest in bolstering middle-class prosperity. Learn more about the American Jobs Plan: Why it matters?\n",
            "The economy is expected to expand at a rate faster than it has been for almost 40 years this year. We have the opportunity to invest in the middle class's success once again. Learn more about the American Jobs Plan: Click here.\n",
            "Our economy is poised to grow at its fastest rate in nearly 40 years this year, making it a prime opportunity for us all to invest in the middle class's success. Learn more about the American Jobs Plan:\n",
            "This year, our economy is projected to grow at the fastest pace in nearly 40 years. Right now, we have the opportunity to make once-in-a-generation investments in the foundations of middle class prosperity. Read more about the American Jobs Plan:\n"
          ]
        }
      ]
    },
    {
      "cell_type": "markdown",
      "source": [
        "# Getting responses from Anthropic Calude using API"
      ],
      "metadata": {
        "id": "47KrbuwOubac"
      }
    },
    {
      "cell_type": "code",
      "source": [
        "# If you have Anthropic key to access Calude lease mention here\n",
        "ANTHROPIC_API_KEY = '<your key here>'\n",
        "import anthropic\n",
        "\n",
        "responses = []\n",
        "\n",
        "def main(max_tokens_to_sample: int = 200):\n",
        "    c = anthropic.Client(ANTHROPIC_API_KEY)\n",
        "    for paraphrase in li_paraphrases:\n",
        "      text = '''Why is the following text so engaging? \\n Text: ''' + str(paraphrase)\n",
        "      resp = c.completion(\n",
        "          prompt= str(anthropic.HUMAN_PROMPT) + \" \" + str(text) + str(anthropic.AI_PROMPT),\n",
        "          stop_sequences=[anthropic.HUMAN_PROMPT],\n",
        "          model=\"claude-v1\",\n",
        "          max_tokens_to_sample=max_tokens_to_sample,\n",
        "      )\n",
        "      responses.append(resp['completion'])\n",
        "\n",
        "if __name__ == \"__main__\":\n",
        "    main()"
      ],
      "metadata": {
        "id": "ktTua-wUOVHv"
      },
      "execution_count": null,
      "outputs": []
    },
    {
      "cell_type": "markdown",
      "source": [
        "# If you don't have access to Anthropic Claude, you can manually get the responses from Poe.com as mentioned below."
      ],
      "metadata": {
        "id": "AaaYRLDx9PyF"
      }
    },
    {
      "cell_type": "code",
      "source": [
        "prefix = 'Why is the following text so engaging? \\n Text: '\n",
        "prompts = [prefix + str(i) for i in li_paraphrases]\n",
        "for i in prompts:\n",
        "  print(i)"
      ],
      "metadata": {
        "colab": {
          "base_uri": "https://localhost:8080/"
        },
        "id": "lbleeeh73wIP",
        "outputId": "0610bd97-9f9f-44da-e22a-82d2b7d82a52"
      },
      "execution_count": 94,
      "outputs": [
        {
          "output_type": "stream",
          "name": "stdout",
          "text": [
            "Why is the following text so engaging? \n",
            " Text: We are expecting the fastest growth in our economy for almost four decades this year. At present, we have the chance to invest in bolstering middle-class prosperity. Learn more about the American Jobs Plan:\n",
            "Why is the following text so engaging? \n",
            " Text: The economy is expected to expand at a rate faster than it has been for almost 40 years this year. We have the opportunity to invest in the middle class's success once again. Learn more about the American Jobs Plan:\n",
            "Why is the following text so engaging? \n",
            " Text: We are expecting the fastest growth in our economy for almost four decades this year. At present, we have the chance to invest in bolstering middle-class prosperity. Learn more about the American Jobs Plan: Why it matters?\n",
            "Why is the following text so engaging? \n",
            " Text: The economy is expected to expand at a rate faster than it has been for almost 40 years this year. We have the opportunity to invest in the middle class's success once again. Learn more about the American Jobs Plan: Click here.\n",
            "Why is the following text so engaging? \n",
            " Text: Our economy is poised to grow at its fastest rate in nearly 40 years this year, making it a prime opportunity for us all to invest in the middle class's success. Learn more about the American Jobs Plan:\n",
            "Why is the following text so engaging? \n",
            " Text: This year, our economy is projected to grow at the fastest pace in nearly 40 years. Right now, we have the opportunity to make once-in-a-generation investments in the foundations of middle class prosperity. Read more about the American Jobs Plan:\n"
          ]
        }
      ]
    },
    {
      "cell_type": "code",
      "source": [
        "# Go to https://poe.com/Claude-instant, paste the prompts printed in the previous line one at a time, copy, and paste the responses below.\n",
        "\n",
        "responses = ['''<response_1>''','''<response_2''','''<response_3>''','''<response_4''','''<response_5>''','''<response_6''']\n",
        "\n",
        "\n",
        "# Example\n",
        "\n",
        "\"\"\"\n",
        "\n",
        "responses = ['''This text uses a few engaging rhetorical techniques:\n",
        "\n",
        "1. It begins with optimistic framing: \"We are expecting the fastest growth in our economy for almost four decades this year.\" Optimistic framing appeals to readers' hopes for economic progress and suggests positive change may be within reach. \n",
        "\n",
        "2. It presents an opportunity: \"At present, we have the chance to invest in bolstering middle-class prosperity.\" Appealing to shared goals like middle-class prosperity and language of \"chance\" and \"opportunity\" can engage readers by giving them a sense of agency and possibility for change.\n",
        "\n",
        "3. It provides a clear call to action at the end: \"Learn more about the American Jobs Plan.\" Directives to take action give readers a sense of importance and motivation to be part of the solution.\n",
        "\n",
        "4. The focus on goals like \"middle-class prosperity\" appeals to readers' hopes for economic fairness and opportunity - values that tend to resonate broadly. Appealing to shared values can engage diverse audiences.\n",
        "\n",
        "5. The language is concise yet vivid, using simple words and active phrasing (\"we have the chance\"). Concise language tends to be more engaging for some readers, and active phrasing conveys a sense of agency.\n",
        "\n",
        "However, the limited context could hinder engagement for some readers:\n",
        "\n",
        "1. The text lacks details about the optimistic economic forecast and why growth is expected. Specifics would make the case more credible and compelling.\n",
        "\n",
        "2. No details are provided about the \"American Jobs Plan\" or how it would bolster middle-class prosperity. Specifics would make the call to action more convincing.\n",
        "\n",
        "3. The text avoids discussion of potential obstacles or trade-offs, which readers may see as an attempt to oversimplify complex issues. Addressing counterarguments could improve credibility.\n",
        "\n",
        "In summary, the text employs some engaging techniques like optimistic framing, appealing to shared values and goals, and providing a call to action. But the lack of specifics about both the economic situation and the proposed solutions likely limits its ability to fully convince readers and inspire their action or support. Providing more details and context could enhance engagement.''',\n",
        "'''This text uses some engaging rhetorical techniques:\n",
        "\n",
        "1. It begins with optimistic framing: \"The economy is expected to expand at a rate faster than it has been for almost 40 years this year.\" Optimistic framing appeals to readers' hopes for economic progress and suggests positive change may be within reach.\n",
        "\n",
        "2. It presents an opportunity: \"We have the opportunity to invest in the middle class's success once again.\" Appealing to shared goals like the middle class's success and using the language of \"opportunity\" can engage readers by giving them a sense of possibility for change.\n",
        "\n",
        "3. It provides a clear call to action at the end: \"Learn more about the American Jobs Plan.\" Directives to take action give readers a sense of importance and motivation to be part of the solution.     \n",
        "\n",
        "4. The focus on supporting the middle class appeals to readers' hopes for economic fairness and opportunity - values that tend to resonate broadly. Appealing to shared values can potentially engage diverse audiences.\n",
        "\n",
        "5. The language is concise, using simple words and active phrasing (\"We have the opportunity\"). Concise language tends to be more engaging for some readers.\n",
        "\n",
        "However, the lack of details could limit engagement for some readers:\n",
        "\n",
        "1. The text provides no specifics to support the optimistic economic forecast. Details would make the case more credible and compelling.\n",
        "\n",
        "2. No details are given about the \"American Jobs Plan\" or how it would support the middle class. Specifics would make the call to action more convincing.\n",
        "\n",
        "3. The text avoids discussing potential obstacles or trade-offs, which readers may see as an attempt to oversimplify complex issues. Addressing counterarguments could improve credibility.\n",
        "\n",
        "In summary, the text employs some engaging techniques like optimistic framing, appealing to shared values, and providing a clear call to action. But the lack of specificity about both the economic situation and the proposed solutions likely limits its ability to fully convince readers and inspire their action or support. Providing more details and context could enhance engagement.''',\n",
        "'''This text uses some engaging rhetorical techniques:\n",
        "\n",
        "1. It begins with optimistic framing: \"We are expecting the fastest growth in our economy for almost four decades this year.\" Optimistic framing appeals to readers' hopes for economic progress and suggests positive change may be within reach.\n",
        "\n",
        "2. It presents an opportunity: \"At present, we have the chance to invest in bolstering middle-class prosperity.\" Appealing to shared goals like middle-class prosperity and language of \"chance\" and \"opportunity\" can engage readers by giving them a sense of agency and possibility for change.\n",
        "\n",
        "3. It provides a clear call to action: \"Learn more about the American Jobs Plan: Why it matters?\" Directives to take action give readers a sense of importance and motivation to be part of the solution.\n",
        "\n",
        "4. The focus on goals like \"middle-class prosperity\" appeals to readers' hopes for economic fairness and opportunity - values that tend to resonate broadly. Appealing to shared values can engage diverse audiences. \n",
        "\n",
        "5. Adding \"Why it matters?\" indicates there may be details that justify the importance of the plan, which could help convince skeptical readers.\n",
        "\n",
        "However, limitations remain that may reduce engagement for some readers:\n",
        "\n",
        "1. The text lacks specifics to support the optimistic economic forecast, which would make the case more credible and compelling.\n",
        "\n",
        "2. No details are provided about the \"American Jobs Plan\" or how it would bolster middle-class prosperity. Specifics would strengthen the call to action.\n",
        "\n",
        "3. The text avoids discussing potential obstacles or trade-offs, which readers may see as an attempt to oversimplify complex issues. Addressing counterarguments could improve credibility.\n",
        "\n",
        "In summary, while the text employs some engaging techniques, limitations like lack of specifics about both the economic situation and proposed solutions likely constrain its ability to fully convince readers and inspire their support. Providing additional details, justifications and context could enhance the text's credibility, persuasiveness and rhetorical engagement.\n",
        "\n",
        "In short, details matter! The more specifics and evidence provided, the more convincing - and ultimately engaging - the text can be for readers.''',\n",
        "'''This text uses some engaging rhetorical techniques:\n",
        "\n",
        "1. It begins with optimistic framing: \"The economy is expected to expand at a rate faster than it has been for almost 40 years this year.\" Optimistic framing appeals to readers' hopes for economic progress and suggests positive change may be within reach.\n",
        "\n",
        "2. It presents an opportunity: \"We have the opportunity to invest in the middle class's success once again.\" Appealing to shared goals like middle-class prosperity and language of \"opportunity\" can engage readers by giving them a sense of possibility for change.\n",
        "\n",
        "3. It provides a clear call to action at the end: \"Learn more about the American Jobs Plan: Click here.\" Directives to take action give readers a sense of importance and motivation to be part of the solution.   \n",
        "\n",
        "4. The focus on supporting the middle class appeals to readers' hopes for economic fairness and opportunity - values that tend to resonate broadly. Appealing to shared values can potentially engage diverse audiences.\n",
        "\n",
        "5. The language is concise, using simple words and active phrasing (\"We have the opportunity\"). Concise language tends to be more engaging for some readers.\n",
        "\n",
        "However, the lack of details limits engagement for some readers:\n",
        "\n",
        "1. The text provides no specifics to support the optimistic economic forecast. Details would make the case more credible and compelling.   \n",
        "\n",
        "2. No details are given about the \"American Jobs Plan\" or how it would support the middle class. Specifics would strengthen the call to action.\n",
        "\n",
        "3. The text avoids discussing potential obstacles or trade-offs, which readers may see as an attempt to oversimplify complex issues. Addressing counterarguments could improve credibility.\n",
        "\n",
        "In summary, while the text employs some engaging techniques, the lack of specificity about both the economic situation and proposed solutions likely constrains its ability to fully convince readers and inspire their support. Providing more details, evidence and justifications could enhance the text's credibility, persuasiveness  and rhetorical engagement.\n",
        "\n",
        "In short, the call to action may grab readers' attention initially, but without further specifics and context, the text's ability to fully engage and persuade readers remains limited.''',\n",
        "'''This text uses a few potentially engaging rhetorical techniques:\n",
        "\n",
        "1. It begins with optimistic framing: \"Our economy is poised to grow at its fastest rate in nearly 40 years this year.\" Optimistic framing appeals to readers' hopes for economic progress and suggests positive change may be within reach.\n",
        "\n",
        "2. It presents an opportunity: \"making it a prime opportunity for us all to invest in the middle class's success.\" Appealing to shared goals like middle-class success and using the framing of \"opportunity\" can engage readers by giving them a sense of possibility for change.\n",
        "\n",
        "3. It provides a call to action at the end: \"Learn more about the American Jobs Plan.\" Directives to take action give readers a sense of importance and motivation to be part of the solution.\n",
        "\n",
        "4. The focus on supporting the middle class appeals to readers' hopes for economic fairness and opportunity - values that tend to resonate broadly. Appealing to shared values can potentially engage diverse audiences.\n",
        "\n",
        "5. The use of \"us all\" suggests inclusivity and a shared stake in the opportunity, which can engage readers by making them feel part of the collective \"we.\"\n",
        "\n",
        "However, the lack of details likely limits the text's engagement potential:\n",
        "\n",
        "1. It provides no specifics to support the optimistic economic forecast. Details would make the case more credible and compelling.   \n",
        "\n",
        "2. No details are given about the \"American Jobs Plan\" or how it would support the middle class. These specifics would strengthen the call to action.\n",
        "\n",
        "3. The text avoids discussing potential obstacles or trade-offs, which readers may see as an attempt to oversimplify complex issues. Addressing counterarguments could improve credibility.\n",
        "\n",
        "In summary, while the text employs some potentially engaging techniques, the lack of specificity about both the economic situation and proposed solutions likely constrains its ability to fully convince readers or inspire their support. Providing more details, evidence and justifications could enhance the text's credibility, persuasiveness and rhetorical engagement.\n",
        "\n",
        "The initial optimism and call to action may grab readers' attention, but without further context, the text's ability to fully engage and persuade readers remains limited.''',\n",
        "'''This text uses some engaging rhetorical techniques:\n",
        "\n",
        "1. It begins with optimistic framing: \"This year, our economy is projected to grow at the fastest pace in nearly 40 years.\" Optimistic framing appeals to readers' hopes for economic progress and suggests positive change may be within reach.\n",
        "\n",
        "2. It presents an opportunity: \"Right now, we have the opportunity to make once-in-a-generation investments in the foundations of middle class prosperity.\" Appealing to shared goals like middle class prosperity and using language of \"opportunity\" can engage readers by giving them a sense of agency and urgency.   \n",
        "\n",
        "3. It provides a call to action at the end: \"Read more about the American Jobs Plan.\" Directives to take action give readers a sense of importance and motivation.\n",
        "\n",
        "4. The focus on \"investments in the foundations of middle class prosperity\" appeals to readers' hopes for economic fairness and opportunity - values that tend to resonate broadly. Appealing to shared values can engage diverse audiences.\n",
        "\n",
        "5. Describing the investments as \"once-in-a-generation\" suggests an unprecedented and transformative opportunity, which can inspire and motivate readers.\n",
        "\n",
        "However, limitations remain that may hinder engagement for some readers:\n",
        "\n",
        "1. The text lacks specifics to support the optimistic economic forecast, which would make the case more credible and compelling.  \n",
        "\n",
        "2. No details are provided about the \"American Jobs Plan\" or how it would achieve middle class prosperity. Such specifics would strengthen the call to action.\n",
        "\n",
        "3. The text avoids discussing potential obstacles or trade-offs, which readers may see as an attempt to oversimplify complex issues. Addressing counterarguments could improve credibility.\n",
        "\n",
        "In summary, though the text employs some potentially engaging techniques, limitations like lack of specifics about the economic situation and proposed solutions likely constrain its ability to fully convince readers or inspire their support. Providing more details, evidence and context could enhance the text's credibility, persuasiveness and rhetorical engagement.\n",
        "\n",
        "The initial optimism and call to action may grab readers' attention, but without further context, the text's ability to fully engage and persuade readers remains limited.''']\n",
        "\n",
        "\n",
        "\"\"\""
      ],
      "metadata": {
        "id": "uGMJLuaIHJ26"
      },
      "execution_count": null,
      "outputs": []
    },
    {
      "cell_type": "markdown",
      "source": [
        "# Scoring GGEA"
      ],
      "metadata": {
        "id": "KtEXp5x5FzQ9"
      }
    },
    {
      "cell_type": "code",
      "source": [
        "li_paraphrases_original_responses = [str(i) + \" \" + str(j) for i,j in zip(li_paraphrases, responses)]"
      ],
      "metadata": {
        "id": "OVWH3LCAOrwZ"
      },
      "execution_count": 97,
      "outputs": []
    },
    {
      "cell_type": "code",
      "source": [
        "di = {}\n",
        "for i in range(0,len(li_paraphrases_original_responses)-1):\n",
        "  for j in range(i+1,len(li_paraphrases_original_responses)):\n",
        "    scores = model_ggea.predict([(li_paraphrases_original_responses[i], li_paraphrases_original_responses[j])])\n",
        "    di[(i,j)] = [i if scores.argmax(axis=1)[0]==1 else j, scores[0].max()]\n",
        "\n",
        "ind = list(di.values())[np.array([i[1] for i in di.values()]).argmax()][0]\n",
        "print(\"Best paraphrased version is:\\n\", li_paraphrases[ind])    "
      ],
      "metadata": {
        "colab": {
          "base_uri": "https://localhost:8080/"
        },
        "id": "uQ21ENvIIZOd",
        "outputId": "f37a5534-2c98-426e-e1a0-6d45c974df5a"
      },
      "execution_count": 98,
      "outputs": [
        {
          "output_type": "stream",
          "name": "stdout",
          "text": [
            "Best paraphrased version is:\n",
            " The economy is expected to expand at a rate faster than it has been for almost 40 years this year. We have the opportunity to invest in the middle class's success once again. Learn more about the American Jobs Plan:\n"
          ]
        }
      ]
    }
  ]
}